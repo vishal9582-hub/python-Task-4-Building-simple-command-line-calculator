{
 "cells": [
  {
   "cell_type": "markdown",
   "id": "08a21f1b-7669-4702-a8f0-44c7fbbf6d8d",
   "metadata": {},
   "source": [
    "# Designing the User Interface\n"
   ]
  },
  {
   "cell_type": "code",
   "execution_count": 12,
   "id": "9ab0a853-b8aa-465a-8fb8-50e0a68e2ff9",
   "metadata": {},
   "outputs": [],
   "source": [
    "def get_user_input():\n",
    "    print(\"Welcome to the Command-line Calculator!\")\n",
    "    print(\"Select an operation:\")\n",
    "    print(\"1. Addition\")\n",
    "    print(\"2. Subtraction\")\n",
    "    print(\"3. Multiplication\")\n",
    "    print(\"4. Division\")\n",
    "    \n",
    "    operation = input(\"Enter the number of the operation you want to perform (1/2/3/4): \")\n",
    "    num1 = float(input(\"Enter the first number: \"))\n",
    "    num2 = float(input(\"Enter the second number: \"))\n",
    "    \n",
    "    return operation, num1, num2"
   ]
  },
  {
   "cell_type": "markdown",
   "id": "df6e150b-7cba-4fa6-b5d7-d66c5ed41d7d",
   "metadata": {},
   "source": [
    "# Implementing Arithmetic Functions\n"
   ]
  },
  {
   "cell_type": "code",
   "execution_count": 13,
   "id": "e716d5cd-a159-4415-b008-60ff2bf2367a",
   "metadata": {},
   "outputs": [],
   "source": [
    "def add(x, y):\n",
    "    return x + y\n",
    "\n",
    "def subtract(x, y):\n",
    "    return x - y\n",
    "\n",
    "def multiply(x, y):\n",
    "    return x * y\n",
    "\n",
    "def divide(x, y):\n",
    "    if y == 0:\n",
    "        return \"Error! Division by zero.\"\n",
    "    return x / y"
   ]
  },
  {
   "cell_type": "markdown",
   "id": "6d4737f9-1370-4134-9df3-4d9c558fe6ee",
   "metadata": {},
   "source": [
    "# Handling User Input and Performing Calculations\r\n"
   ]
  },
  {
   "cell_type": "code",
   "execution_count": 19,
   "id": "6f32bdaa-83c1-4566-b2a4-1ac32ecdd622",
   "metadata": {},
   "outputs": [],
   "source": [
    "def calculate():\n",
    "    operation, num1, num2 = get_user_input()\n",
    "    \n",
    "    if operation == '1':\n",
    "        result = add(num1, num2)\n",
    "        operation_name = \"Addition\"\n",
    "    elif operation == '2':\n",
    "        result = subtract(num1, num2)\n",
    "        operation_name = \"Subtraction\"\n",
    "    elif operation == '3':\n",
    "        result = multiply(num1, num2)\n",
    "        operation_name = \"Multiplication\"\n",
    "    elif operation == '4':\n",
    "        result = divide(num1, num2)\n",
    "        operation_name = \"Division\"\n",
    "    else:\n",
    "        return \"Invalid operation selected.\"\n",
    "    \n",
    "    return f\"The result of {operation_name} between {num1} and {num2} is: {result}\"\n",
    "    "
   ]
  },
  {
   "cell_type": "markdown",
   "id": "8e405e1d-c430-4006-9d4c-b310e427ed91",
   "metadata": {},
   "source": [
    "# Use the Calculator"
   ]
  },
  {
   "cell_type": "code",
   "execution_count": 22,
   "id": "c3529b09-2065-45d0-818f-bbee7487a892",
   "metadata": {},
   "outputs": [
    {
     "name": "stdout",
     "output_type": "stream",
     "text": [
      "Welcome to the Command-line Calculator!\n",
      "Select an operation:\n",
      "1. Addition\n",
      "2. Subtraction\n",
      "3. Multiplication\n",
      "4. Division\n"
     ]
    },
    {
     "name": "stdin",
     "output_type": "stream",
     "text": [
      "Enter the number of the operation you want to perform (1/2/3/4):  4\n",
      "Enter the first number:  1005\n",
      "Enter the second number:  5\n"
     ]
    },
    {
     "name": "stdout",
     "output_type": "stream",
     "text": [
      "The result of Division between 1005.0 and 5.0 is: 201.0\n"
     ]
    }
   ],
   "source": [
    "print(calculate())"
   ]
  },
  {
   "cell_type": "code",
   "execution_count": null,
   "id": "e5dd81fd-15d7-4b67-8b44-2d1790514d75",
   "metadata": {},
   "outputs": [],
   "source": []
  }
 ],
 "metadata": {
  "kernelspec": {
   "display_name": "Python 3 (ipykernel)",
   "language": "python",
   "name": "python3"
  },
  "language_info": {
   "codemirror_mode": {
    "name": "ipython",
    "version": 3
   },
   "file_extension": ".py",
   "mimetype": "text/x-python",
   "name": "python",
   "nbconvert_exporter": "python",
   "pygments_lexer": "ipython3",
   "version": "3.11.7"
  }
 },
 "nbformat": 4,
 "nbformat_minor": 5
}
